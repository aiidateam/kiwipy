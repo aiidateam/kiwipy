{
 "cells": [
  {
   "cell_type": "code",
   "execution_count": 1,
   "metadata": {
    "pycharm": {
     "name": "#%%\n"
    }
   },
   "outputs": [
    {
     "name": "stdout",
     "output_type": "stream",
     "text": [
      "Got your message: hello!\n"
     ]
    }
   ],
   "source": [
    "import kiwipy\n",
    "\n",
    "comm = kiwipy.connect('amqp://127.0.0.1')\n",
    "\n",
    "\n",
    "def rpc_call(_comm, msg):\n",
    "    print(\"Got your message: {}\".format(msg))\n",
    "    return \"Thanks!\"\n",
    "\n",
    "\n",
    "comm.add_rpc_subscriber(rpc_call, 'tester')\n",
    "\n",
    "response = comm.rpc_send('tester', 'hello!')"
   ]
  },
  {
   "cell_type": "code",
   "execution_count": 2,
   "metadata": {
    "pycharm": {
     "name": "#%%\n"
    }
   },
   "outputs": [
    {
     "name": "stdout",
     "output_type": "stream",
     "text": [
      "Thanks!\n"
     ]
    }
   ],
   "source": [
    "print(response.result())"
   ]
  },
  {
   "cell_type": "code",
   "execution_count": 3,
   "metadata": {
    "pycharm": {
     "name": "#%%\n"
    }
   },
   "outputs": [],
   "source": [
    "comm.close()"
   ]
  },
  {
   "cell_type": "code",
   "execution_count": 4,
   "metadata": {},
   "outputs": [],
   "source": [
    "comm.close()"
   ]
  },
  {
   "cell_type": "code",
   "execution_count": 5,
   "metadata": {},
   "outputs": [
    {
     "name": "stdout",
     "output_type": "stream",
     "text": [
      "Thanks!\n"
     ]
    }
   ],
   "source": [
    "print(response.result())"
   ]
  },
  {
   "cell_type": "code",
   "execution_count": 6,
   "metadata": {},
   "outputs": [],
   "source": [
    "comm.close()"
   ]
  },
  {
   "cell_type": "code",
   "execution_count": null,
   "metadata": {},
   "outputs": [],
   "source": []
  }
 ],
 "metadata": {
  "kernelspec": {
   "display_name": "Python 3",
   "language": "python",
   "name": "python3"
  },
  "language_info": {
   "codemirror_mode": {
    "name": "ipython",
    "version": 3
   },
   "file_extension": ".py",
   "mimetype": "text/x-python",
   "name": "python",
   "nbconvert_exporter": "python",
   "pygments_lexer": "ipython3",
   "version": "3.7.5"
  },
  "pycharm": {
   "stem_cell": {
    "cell_type": "raw",
    "metadata": {
     "collapsed": false
    },
    "source": [
     "# %%\n",
     "\n",
     "import kiwipy\n",
     "\n",
     "comm = kiwipy.connect('amqp://127.0.0.1')\n",
     "\n",
     "\n",
     "def rpc_call(_comm, msg):\n",
     "    print(\"Got your message: {}\".format(msg))\n",
     "    return \"Thanks!\"\n",
     "\n",
     "\n",
     "comm.add_rpc_subscriber(rpc_call, 'tester')\n",
     "\n",
     "response = comm.rpc_send('tester', 'hello!')\n",
     "\n",
     "# %%\n",
     "\n",
     "print(response.result())\n",
     "\n",
     "# %%\n",
     "\n",
     "comm.close()\n"
    ]
   }
  }
 },
 "nbformat": 4,
 "nbformat_minor": 1
}
