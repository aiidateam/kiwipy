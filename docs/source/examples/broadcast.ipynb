{
 "cells": [
  {
   "cell_type": "markdown",
   "metadata": {
    "pycharm": {
     "name": "#%% md\n"
    }
   },
   "source": [
    "Broadcast Example\n",
    "=================\n",
    "\n",
    "Let's start off in the usual way and create a RabbitMQ communicator and subscribe to receive broadcasts."
   ]
  },
  {
   "cell_type": "code",
   "execution_count": 1,
   "metadata": {
    "pycharm": {
     "name": "#%%\n"
    }
   },
   "outputs": [],
   "source": [
    "from kiwipy import rmq\n",
    "comm = rmq.RmqThreadCommunicator.connect('amqp://127.0.0.1')\n",
    "\n",
    "def subscriber(_comm, body, sender, subject, _corr_id):\n",
    "    print(\"Broadcast received:\")\n",
    "    print(\"sender:\\t{}\\nsubject:{}\\nbody:\\t{}\\n\".format(sender, subject, body))\n",
    "\n",
    "\n",
    "sub_id = comm.add_broadcast_subscriber(subscriber)"
   ]
  },
  {
   "cell_type": "markdown",
   "metadata": {
    "pycharm": {
     "name": "#%% md\n"
    }
   },
   "source": [
    "Now, let's broadcast!"
   ]
  },
  {
   "cell_type": "code",
   "execution_count": 2,
   "metadata": {
    "pycharm": {
     "name": "#%%\n"
    }
   },
   "outputs": [
    {
     "name": "stdout",
     "output_type": "stream",
     "text": [
      "Broadcast received:\n",
      "sender:\tme\n",
      "subject:yo momma\n",
      "body:\tso fat\n",
      "\n"
     ]
    },
    {
     "data": {
      "text/plain": "True"
     },
     "execution_count": 2,
     "metadata": {},
     "output_type": "execute_result"
    }
   ],
   "source": [
    "comm.broadcast_send(\"so fat\", \"me\", \"yo momma\")"
   ]
  },
  {
   "cell_type": "markdown",
   "metadata": {
    "pycharm": {
     "name": "#%% md\n"
    }
   },
   "source": [
    "*True?!  You agree with him, python?*\n",
    "\n",
    "No, no, that's just the return value from `broadcast_send` to tell you the message was indeed sent.\n",
    "\n",
    "*Ok, but it's not exactly the kind of message I wanted to receive.*\n",
    "\n",
    "Sorry about that, here's how to filter so you only get messages that you're interested in.\n",
    "\n",
    "Broadcast Filters\n",
    "-----------------"
   ]
  },
  {
   "cell_type": "code",
   "execution_count": 3,
   "metadata": {
    "pycharm": {
     "name": "#%%\n"
    }
   },
   "outputs": [
    {
     "name": "stdout",
     "output_type": "stream",
     "text": [
      "Broadcast received:\n",
      "sender:\tBob Jones\n",
      "subject:sell.caravan\n",
      "body:\tTip-top caravan for sale\n",
      "\n"
     ]
    },
    {
     "data": {
      "text/plain": "True"
     },
     "execution_count": 3,
     "metadata": {},
     "output_type": "execute_result"
    }
   ],
   "source": [
    "import kiwipy\n",
    "\n",
    "comm.remove_broadcast_subscriber(sub_id) # Remove the current subscriber\n",
    "# Add a filtered one\n",
    "filtered = kiwipy.BroadcastFilter(subscriber)\n",
    "filtered.add_subject_filter(\"sell.*\")\n",
    "comm.add_broadcast_subscriber(filtered)\n",
    "\n",
    "comm.broadcast_send('Tip-top caravan for sale', \"Bob Jones\", 'sell.caravan')"
   ]
  },
  {
   "cell_type": "markdown",
   "metadata": {
    "pycharm": {
     "name": "#%% md\n"
    }
   },
   "source": [
    "*Hmm, I like me the look of that caravan.*\n",
    "Ok, let's send a purchase request back."
   ]
  },
  {
   "cell_type": "code",
   "execution_count": 4,
   "metadata": {
    "pycharm": {
     "name": "#%%\n"
    }
   },
   "outputs": [
    {
     "data": {
      "text/plain": "True"
     },
     "execution_count": 4,
     "metadata": {},
     "output_type": "execute_result"
    }
   ],
   "source": [
    "comm.broadcast_send('I need a caravan for me ma', sender=\"Mickey O'Neil\", subject='purchase.caravan')\n"
   ]
  },
  {
   "cell_type": "markdown",
   "metadata": {
    "pycharm": {
     "name": "#%% md\n"
    }
   },
   "source": [
    "You can see here we don't get anything printed because we're only listening for `sell` orders.\n",
    "\n",
    "Finally let's close the communicator."
   ]
  },
  {
   "cell_type": "code",
   "execution_count": 5,
   "metadata": {
    "pycharm": {
     "name": "#%%\n"
    }
   },
   "outputs": [],
   "source": [
    "comm.close()\n",
    "\n"
   ]
  }
 ],
 "metadata": {
  "kernelspec": {
   "display_name": "Python 3",
   "language": "python",
   "name": "python3"
  },
  "language_info": {
   "codemirror_mode": {
    "name": "ipython",
    "version": 3
   },
   "file_extension": ".py",
   "mimetype": "text/x-python",
   "name": "python",
   "nbconvert_exporter": "python",
   "pygments_lexer": "ipython3",
   "version": "3.7.5"
  }
 },
 "nbformat": 4,
 "nbformat_minor": 1
}